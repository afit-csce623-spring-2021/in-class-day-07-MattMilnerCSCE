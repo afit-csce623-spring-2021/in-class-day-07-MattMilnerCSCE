{
  "nbformat": 4,
  "nbformat_minor": 0,
  "metadata": {
    "kernelspec": {
      "display_name": "Python 3",
      "language": "python",
      "name": "python3"
    },
    "language_info": {
      "codemirror_mode": {
        "name": "ipython",
        "version": 3
      },
      "file_extension": ".py",
      "mimetype": "text/x-python",
      "name": "python",
      "nbconvert_exporter": "python",
      "pygments_lexer": "ipython3",
      "version": "3.8.5"
    },
    "colab": {
      "name": "CSCE 623_SP2021 in-class Day 07 - logistic function_student.ipynb",
      "provenance": []
    }
  },
  "cells": [
    {
      "cell_type": "markdown",
      "metadata": {
        "id": "dKEod4syioya"
      },
      "source": [
        "# Day 7 \n",
        "Logistic Regression In Class Work"
      ]
    },
    {
      "cell_type": "code",
      "metadata": {
        "id": "efSb4o07ioyk"
      },
      "source": [
        "import numpy as np\n",
        "import matplotlib.pyplot as plt"
      ],
      "execution_count": null,
      "outputs": []
    },
    {
      "cell_type": "markdown",
      "metadata": {
        "id": "SaYRL7IKioyl"
      },
      "source": [
        "Helper function"
      ]
    },
    {
      "cell_type": "code",
      "metadata": {
        "id": "GZCojXIKioym"
      },
      "source": [
        "def plotlogistic(x,py):\n",
        "    \"\"\" Plots x vs. prob(y)\n",
        "        Designed for logistic function \n",
        "    \"\"\"\n",
        "    fig = plt.figure()\n",
        "    ax = fig.add_subplot(111)\n",
        "    ax.plot(x,py)\n",
        "    ax.xaxis.set(ticks=range(-5,6))\n",
        "    ax.grid(axis='both')\n",
        "    plt.xlabel('x')\n",
        "    plt.ylabel('probability of y')\n",
        "    plt.title('Logistic Curve')\n",
        "    plt.show()"
      ],
      "execution_count": null,
      "outputs": []
    },
    {
      "cell_type": "markdown",
      "metadata": {
        "id": "zFX7GnOeioym"
      },
      "source": [
        "The Logistic Function for a single feature is\n",
        "\n",
        "$$ p=P(y=1)=\\frac{e^{\\beta_1+\\beta_{1}X_{1}}}{1+e^{\\beta_1+\\beta_1X_1} }$$"
      ]
    },
    {
      "cell_type": "markdown",
      "metadata": {
        "id": "zQjdvBq8ioym"
      },
      "source": [
        "## Develop the logistic function - Student Coding part a:\n",
        "\n",
        "Define a python function to compute $P(y=1)$ from an input signature ```(x,beta0,beta1)``` where each beta is a scalar, X1 is a (n by 1) matrix and $P(y=1)$ is a (n by 1) matrix\n",
        "\n",
        "Don't forget to delete or comment this line in the code below:\n",
        "\n",
        "`raise NotImplementedError()  #delete or comment this line after youve written your code`\n"
      ]
    },
    {
      "cell_type": "code",
      "metadata": {
        "id": "SdyZRms3ioyn"
      },
      "source": [
        "def logistic1D(x,beta0,beta1):\n",
        "    \"\"\" Return the probability of the logistic function for 1-Dimensional x\n",
        "        at the specified values of beta0 and beta1\n",
        "        will return an an item with the same shape as x which should be a vector.\n",
        "    \"\"\"\n",
        "    prob_y = np.zeros(x.shape)  #placeholder for return value\n",
        "\n",
        "    #------INSERT STUDENT CODE HERE TO COMPUTE THE LOGISTIC FUNCTION-----------\n",
        "\n",
        "    raise NotImplementedError()   #delete or comment this line after youve written your code\n",
        "    #------------END OF STUDENT CODE-------------------------\n",
        "    \n",
        "    return prob_y\n"
      ],
      "execution_count": null,
      "outputs": []
    },
    {
      "cell_type": "markdown",
      "metadata": {
        "id": "v9tFPiXsioyn"
      },
      "source": [
        "Instantiate x values"
      ]
    },
    {
      "cell_type": "code",
      "metadata": {
        "id": "VE2ZUAXhioyo"
      },
      "source": [
        "x = np.arange(-6, 6, 0.01)"
      ],
      "execution_count": null,
      "outputs": []
    },
    {
      "cell_type": "markdown",
      "metadata": {
        "id": "ndSdbIgAioyo"
      },
      "source": [
        "Beta Selection for canonical S curve: Student Coding for part c\n",
        "\n",
        "Your goal is to select scalar values for ```beta0``` and ```beta1``` to replicate s-curve canonical logistic function shape shown in the image below\n",
        "\n",
        "<img src=\"https://github.com/afit-csce623-spring-2021/in-class-day-07-MattMilnerCSCE/blob/main/Logistic-S-curve-canonical.png?raw=1\">\n",
        "\n",
        "Don't forget to delete or comment this line in the code below:\n",
        "\n",
        "`raise NotImplementedError()  #delete or comment this line after youve written your code`\n"
      ]
    },
    {
      "cell_type": "code",
      "metadata": {
        "id": "cMCR0V0kioyp"
      },
      "source": [
        "#select betas to try to recreate graph in part C\n",
        "\n",
        "#------INSERT STUDENT CODE HERE FOR BETAS------------\n",
        "b0 = 0.0  #placeholder\n",
        "b1 = 0.0  #placeholder\n",
        "raise NotImplementedError()  #delete or comment this line after youve written your code\n",
        "#----------------------------------------------------"
      ],
      "execution_count": null,
      "outputs": []
    },
    {
      "cell_type": "markdown",
      "metadata": {
        "id": "l-7_rraAioyp"
      },
      "source": [
        "build the resulting logistic graph"
      ]
    },
    {
      "cell_type": "code",
      "metadata": {
        "id": "kGJAtDBvioyp"
      },
      "source": [
        "py = logistic1D(x,b0,b1) \n",
        "plotlogistic(x,py)"
      ],
      "execution_count": null,
      "outputs": []
    },
    {
      "cell_type": "markdown",
      "metadata": {
        "id": "870bXCaGioyp"
      },
      "source": [
        "## Beta Selection for Stairstep down: Student Coding for part F\n",
        "\n",
        "Your goal is to select scalar values for ```beta0``` and ```beta1``` to replicate downward step-function shape using the logistic function shown in the image below\n",
        "\n",
        "<img src=\"https://github.com/afit-csce623-spring-2021/in-class-day-07-MattMilnerCSCE/blob/main/Logistic-stairstep-down.png?raw=1\">\n",
        "\n",
        "Don't forget to delete or comment this line in the code below:\n",
        "\n",
        "`raise NotImplementedError()  #delete or comment this line after youve written your code`\n",
        "\n"
      ]
    },
    {
      "cell_type": "code",
      "metadata": {
        "id": "ujRqH7Wiioyq"
      },
      "source": [
        "#select betas to try to recreate graph in instructions part F\n",
        "\n",
        "#------INSERT STUDENT CODE HERE FOR BETAS------------\n",
        "b0 = 0.0  #placeholder\n",
        "b1 = 0.0  #placeholder\n",
        "raise NotImplementedError()   #delete or comment this line after youve written your code\n",
        "#----------------------------------------------------"
      ],
      "execution_count": null,
      "outputs": []
    },
    {
      "cell_type": "markdown",
      "metadata": {
        "id": "JdeB9XNCioyq"
      },
      "source": [
        "build the resulting logistic graph"
      ]
    },
    {
      "cell_type": "code",
      "metadata": {
        "id": "OBzaIUMfioyr"
      },
      "source": [
        "py = logistic1D(x,b0,b1) \n",
        "plotlogistic(x,py)"
      ],
      "execution_count": null,
      "outputs": []
    }
  ]
}